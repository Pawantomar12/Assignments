{
 "cells": [
  {
   "cell_type": "markdown",
   "id": "ba482805",
   "metadata": {},
   "source": [
    "Q1. What is Abstraction in OOps? Explain with an example.\n",
    "\n",
    "Ans: Abstraction is one of the key concepts of object-oriented programming (OOP) languages. Its main goal is to handle complexity by hiding unnecessary details from the user\n",
    "\n",
    "Abstraction allows us to hide the implementation detail from the user and shows only the functionality of the programming to the user\n",
    "\n",
    "In other words, abstraction in OOP enables the hiding of the internal details of an object from the outside world, so that the focus is on what the object does, rather than how it does it\n",
    "\n",
    "For example, consider a car. A driver only needs to know how to drive a car and not how it works internally. The driver doesn’t need to know how fuel is burned or how power is generated; they only need to know how to operate it1. This is an example of abstraction."
   ]
  },
  {
   "cell_type": "markdown",
   "id": "8e0caa74",
   "metadata": {},
   "source": [
    "Q2. Differentiate between Abstraction and Encapsulation. Explain with an exampl\n",
    "\n",
    "Ans: Abstraction and Encapsulation are two important concepts of Object-Oriented Programming (OOP) languages. \n",
    "\n",
    "Abstraction is used to hide unnecessary details from the user, while encapsulation is used to hide the implementation details of an object from the outside world.\n",
    "\n",
    "Abstraction focuses on what an object does, while encapsulation focuses on how it does it. \n",
    "\n",
    "Abstraction is achieved through interfaces and abstract classes, while encapsulation is achieved through access modifiers such as public, private, and protected.\n",
    "\n",
    "For example, consider a car. A driver only needs to know how to drive a car and not how it works internally. This is an example of abstraction. Encapsulation would be used to hide the internal details of the car from the outside world so that they cannot be accessed directly\n"
   ]
  },
  {
   "cell_type": "markdown",
   "id": "a4906637",
   "metadata": {},
   "source": [
    "Q3. What is abc module in python? Why is it used\n",
    "\n",
    "Ans: The abc module in Python provides the infrastructure for defining abstract base classes (ABCs) in Python. \n",
    "\n",
    "Abstract base classes are classes that cannot be instantiated and are designed to be subclassed by other classes. The abc module works by marking methods of the base class as abstract using the @abstractmethod decorator.\n",
    "\n",
    "A concrete class which is a subclass of such abstract base class then implements the abstract base by overriding its abstract methods2. This allows for a consistent interface across multiple classes.\n"
   ]
  },
  {
   "attachments": {},
   "cell_type": "markdown",
   "id": "003a4472",
   "metadata": {},
   "source": [
    "Q4. How can we achieve data abstraction\n",
    "\n",
    "Ans: Data abstraction is the process by which data and functions are defined in such a way that only essential details can be seen and unnecessary implementations are hidden. The main focus of data abstraction is to separate the interface and the implementation of the program.\n",
    "\n",
    "In Python, we can achieve data abstraction using abstract classes. An abstract class is a class that contains at least one abstract method. An abstract method is a method that has a declaration but does not have an implementation.\n",
    "\n",
    "Python’s objects are Python’s abstraction for data. All data in a Python program is represented by objects or by relations between objects. Every object has an identity, a type and a value."
   ]
  },
  {
   "cell_type": "markdown",
   "id": "94617604",
   "metadata": {},
   "source": [
    "Q5. Can we create an instance of an abstract class? Explain your answer\n",
    "\n",
    "Ans:Abstract classes are incomplete because they have methods that have nobody. If Python allows creating an object for abstract classes then using that object if anyone calls the abstract method, but there is no actual implementation to invoke. This means that we cannot create an object from an abstract class. Abstract classes can only be used via inheritance and their concrete child classes have to provide an implementation for all the abstract methods"
   ]
  },
  {
   "cell_type": "markdown",
   "id": "a4ea3c06",
   "metadata": {},
   "source": []
  }
 ],
 "metadata": {
  "kernelspec": {
   "display_name": "Python 3 (ipykernel)",
   "language": "python",
   "name": "python3"
  },
  "language_info": {
   "codemirror_mode": {
    "name": "ipython",
    "version": 3
   },
   "file_extension": ".py",
   "mimetype": "text/x-python",
   "name": "python",
   "nbconvert_exporter": "python",
   "pygments_lexer": "ipython3",
   "version": "3.9.13"
  }
 },
 "nbformat": 4,
 "nbformat_minor": 5
}
