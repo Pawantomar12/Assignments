{
 "cells": [
  {
   "cell_type": "markdown",
   "id": "e77bf34e",
   "metadata": {},
   "source": [
    "Q1. You are writing code for a company. The requirement of the company is that you create a python \n",
    "function that will check whether the password entered by the user is correct or not. The function should \n",
    "take the password as input and return the string “Valid Password” if the entered password follows the \n",
    "below-given password guidelines else it should return “Invalid Password”.\n",
    "\n",
    "\n",
    "Note: 1. The Password should contain at least two uppercase letters and at least two lowercase letters.\n",
    "\n",
    "2. The Password should contain at least a number and three special characters.\n",
    "\n",
    "3. The length of the password should be 10 characters long."
   ]
  },
  {
   "cell_type": "code",
   "execution_count": 11,
   "id": "592f854e",
   "metadata": {},
   "outputs": [
    {
     "name": "stdout",
     "output_type": "stream",
     "text": [
      "ABc12>?p@d  =  Valid Password\n",
      "adiu231$029AJY#-dj  =  Invalid Password\n",
      "ABcd12./#klajf23&  =  Invalid Password\n"
     ]
    }
   ],
   "source": [
    "import re\n",
    "\n",
    "def check_password(password):\n",
    "    if len(password) != 10:\n",
    "        return \"Invalid Password\"\n",
    "    if not re.search(\"[a-z].*[a-z]\", password):\n",
    "        return \"Invalid Password\"\n",
    "    if not re.search(\"[A-Z].*[A-Z]\", password):\n",
    "        return \"Invalid Password\"\n",
    "    if not re.search(\"[0-9]\", password):\n",
    "        return \"Invalid Password\"\n",
    "    if not re.search(\"[!@#$%^&*()_+{}|:<>?~].*[!@#$%^&*()_+{}|:<>?~].*[!@#$%^&*()_+{}|:<>?~]\", password):\n",
    "        return \"Invalid Password\"\n",
    "    return \"Valid Password\"\n",
    "\n",
    "pass1 = 'ABc12>?p@d'\n",
    "pass2 = 'adiu231$029AJY#-dj'\n",
    "pass3 = 'ABcd12./#klajf23&'\n",
    "\n",
    "print(pass1, ' = ', check_password(pass1))\n",
    "print(pass2, ' = ', check_password(pass2))\n",
    "print(pass3, ' = ', check_password(pass3))"
   ]
  },
  {
   "cell_type": "markdown",
   "id": "46af4a15",
   "metadata": {},
   "source": [
    "Q2. Solve the below-given questions using at least one of the following: \n",
    "\n",
    "1. Lambda functioJ\n",
    "2. Filter functioJ\n",
    "3. Zap functioJ\n",
    "4. List ComprehensioI\n",
    "B Check if the string starts with a particular letterY\n",
    "B Check if the string is numericY\n",
    "B Sort a list of tuples having fruit names and their quantity. [(\"mango\",99),(\"orange\",80), (\"grapes\", 1000)-\n",
    "B Find the squares of numbers from 1 to 10Y\n",
    "B Find the cube root of numbers from 1 to 10Y\n",
    "B Check if a given number is evenY\n",
    "B Filter odd numbers from the given list.\n",
    "\n",
    " [1,2,3,4,5,6,7,8,9,10-\n",
    "B Sort a list of integers into positive and negative integers lists.\n",
    "\n",
    " [1,2,3,4,5,6,-1,-2,-3,-4,-5,0]"
   ]
  },
  {
   "cell_type": "code",
   "execution_count": 13,
   "id": "eb8396d2",
   "metadata": {},
   "outputs": [
    {
     "ename": "SyntaxError",
     "evalue": "invalid syntax (2765241488.py, line 3)",
     "output_type": "error",
     "traceback": [
      "\u001b[1;36m  File \u001b[1;32m\"C:\\Users\\user\\AppData\\Local\\Temp\\ipykernel_17856\\2765241488.py\"\u001b[1;36m, line \u001b[1;32m3\u001b[0m\n\u001b[1;33m    Using lambda function: lambda string, letter: string.startswith(letter)\u001b[0m\n\u001b[1;37m          ^\u001b[0m\n\u001b[1;31mSyntaxError\u001b[0m\u001b[1;31m:\u001b[0m invalid syntax\n"
     ]
    }
   ],
   "source": [
    "#1.Check if the string starts with a particular letter:\n",
    "\n",
    "Using lambda function: lambda string, letter: string.startswith(letter)\n",
    "Using list comprehension: [string for string in strings if string.startswith(letter)]\n",
    "    \n",
    "#2.Check if the string is numeric:\n",
    "\n",
    "Using lambda function: lambda string: string.isnumeric()\n",
    "Using filter function: list(filter(lambda string: string.isnumeric(), strings))\n",
    "    \n",
    "#3.Sort a list of tuples having fruit names and their quantity:\n",
    "\n",
    "Using lambda function: lambda fruit_tuple: fruit_tuple[1]\n",
    "Using sorted function: sorted(fruit_tuples, key=lambda fruit_tuple: fruit_tuple[1])\n",
    "    \n",
    "#4.Find the squares of numbers from 1 to 10:\n",
    "\n",
    "Using lambda function and map function: list(map(lambda num: num**2, range(1, 11)))\n",
    "Using list comprehension: [num**2 for num in range(1, 11)]\n",
    "    \n",
    "#5.Find the cube root of numbers from 1 to 10:\n",
    "\n",
    "Using lambda function and map function: list(map(lambda num: num**(1/3), range(1, 11)))\n",
    "Using list comprehension: [num**(1/3) for num in range(1, 11)]\n",
    "    \n",
    "#6.Check if a given number is even:\n",
    "\n",
    "Using lambda function: lambda num: num % 2 == 0\n",
    "\n",
    "#7.Filter odd numbers from the given list [1,2,3,4,5,6,7,8,9,10]:\n",
    "\n",
    "Using lambda function and filter function: list(filter(lambda num: num % 2 != 0, nums))\n",
    "Using list comprehension: [num for num in nums if num % 2 != 0]\n",
    "    \n",
    "#8.Sort a list of integers into positive and negative integers lists [1,2,3,4,5,6,-1,-2,-3,-4,-5,0]:\n",
    "\n",
    "Using lambda function and filter function:\n",
    "positive_nums = list(filter(lambda num: num > 0, nums))\n",
    "negative_nums = list(filter(lambda num: num < 0, nums))\n",
    "Using list comprehension:\n",
    "positive_nums = [num for num in nums if num > 0]\n",
    "negative_nums = [num for num in nums if num < 0]\n"
   ]
  },
  {
   "cell_type": "code",
   "execution_count": null,
   "id": "f83b1eb5",
   "metadata": {},
   "outputs": [],
   "source": []
  },
  {
   "cell_type": "code",
   "execution_count": null,
   "id": "b1bb1b18",
   "metadata": {},
   "outputs": [],
   "source": []
  }
 ],
 "metadata": {
  "kernelspec": {
   "display_name": "Python 3 (ipykernel)",
   "language": "python",
   "name": "python3"
  },
  "language_info": {
   "codemirror_mode": {
    "name": "ipython",
    "version": 3
   },
   "file_extension": ".py",
   "mimetype": "text/x-python",
   "name": "python",
   "nbconvert_exporter": "python",
   "pygments_lexer": "ipython3",
   "version": "3.9.13"
  }
 },
 "nbformat": 4,
 "nbformat_minor": 5
}
