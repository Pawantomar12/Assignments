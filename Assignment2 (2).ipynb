{
 "cells": [
  {
   "cell_type": "markdown",
   "id": "e7ce350e-b00b-4aca-897c-e7331c478044",
   "metadata": {},
   "source": [
    "Q1.  Explain with an example each when to use a for loop and a while loop.\n",
    "\n",
    "Ans:-A for loop is used for iterating over a sequence (that is either a list, a tuple, a dictionary, a set, or a string).\n",
    "This is less like the for keyword in other programming languages, and works more like an iterator method as found in other object-orientated programming languages.\n",
    "With the for loop we can execute a set of statements, once for each item in a list, tuple, set etc.\n",
    "\n",
    "For Loop: A for loop is an iteration method that is best used when you know the number of iterations ahead of time. "
   ]
  },
  {
   "cell_type": "code",
   "execution_count": 5,
   "id": "a924e175-84a0-43b6-b29d-0c40811a5f8d",
   "metadata": {},
   "outputs": [
    {
     "name": "stdin",
     "output_type": "stream",
     "text": [
      "plese enter a number for table:-  5\n"
     ]
    },
    {
     "name": "stdout",
     "output_type": "stream",
     "text": [
      "5  *  1  =  5\n",
      "5  *  2  =  10\n",
      "5  *  3  =  15\n",
      "5  *  4  =  20\n",
      "5  *  5  =  25\n",
      "5  *  6  =  30\n",
      "5  *  7  =  35\n",
      "5  *  8  =  40\n",
      "5  *  9  =  45\n",
      "5  *  10  =  50\n",
      "Table of  5\n"
     ]
    }
   ],
   "source": [
    "num = int(input(\"plese enter a number for table:- \"))\n",
    "for i in range(1,11):\n",
    "    print(num,\" * \",i,\" = \",num*i)\n",
    "else:\n",
    "    print(\"Table of \",num)"
   ]
  },
  {
   "cell_type": "markdown",
   "id": "6df72d08-2fe3-451e-a6be-a221bc5ea75a",
   "metadata": {},
   "source": [
    "While Loop: A while loop is an iteration method that is best used when you don't know the number of iterations ahead of time. The contents of the loop are executed as long as the expression evaluates to true.\n",
    "\n",
    "A while loop evaluates the condition\n",
    "If the condition evaluates to True, the code inside the while loop is executed.\n",
    "condition is evaluated again.\n",
    "This process continues until the condition is False.\n",
    "When condition evaluates to False, the loop stops."
   ]
  },
  {
   "cell_type": "code",
   "execution_count": 12,
   "id": "045eb4de-672e-4c06-a117-435290e31c5f",
   "metadata": {},
   "outputs": [
    {
     "name": "stdin",
     "output_type": "stream",
     "text": [
      "plese enter a number for table:-  5\n"
     ]
    },
    {
     "name": "stdout",
     "output_type": "stream",
     "text": [
      "5  *  1  =  5\n",
      "5  *  2  =  10\n",
      "5  *  3  =  15\n",
      "5  *  4  =  20\n",
      "5  *  5  =  25\n",
      "5  *  6  =  30\n",
      "5  *  7  =  35\n",
      "5  *  8  =  40\n",
      "5  *  9  =  45\n",
      "5  *  10  =  50\n",
      "Table of  5\n"
     ]
    }
   ],
   "source": [
    "num = int(input(\"plese enter a number for table:- \"))\n",
    "count = 1\n",
    "while count<=10:\n",
    "    print(num,\" * \",count,\" = \",num*count)\n",
    "    count = count+1\n",
    "else:\n",
    "    print(\"Table of \",num)"
   ]
  },
  {
   "cell_type": "markdown",
   "id": "19517283-3a44-44da-852c-e793d957bb88",
   "metadata": {},
   "source": [
    "Q2.  Write a python program to print the sum and product of the first 10 natural numbers using for \n",
    "and while loop.\n",
    "\n",
    "Ans:-"
   ]
  },
  {
   "cell_type": "code",
   "execution_count": 11,
   "id": "11402fd9-558a-4faa-bb0e-cb4efd915307",
   "metadata": {},
   "outputs": [
    {
     "name": "stdin",
     "output_type": "stream",
     "text": [
      "Enter a number:-  10\n"
     ]
    },
    {
     "name": "stdout",
     "output_type": "stream",
     "text": [
      "Product  3628800 Sum 55\n"
     ]
    }
   ],
   "source": [
    "\n",
    "\n",
    "#For loop\n",
    "\n",
    "num = int(input(\"Enter a number:- \"))\n",
    "pro = 1\n",
    "sum = 0\n",
    "\n",
    "for i in range(1,num+1):\n",
    "    pro = pro * i\n",
    "    sum = sum+i\n",
    "    \n",
    "print(\"Product \",pro,\"Sum\",sum)\n"
   ]
  },
  {
   "cell_type": "code",
   "execution_count": 12,
   "id": "f59b8612-ab2f-4e5e-8936-b09f7fdcca68",
   "metadata": {},
   "outputs": [
    {
     "name": "stdin",
     "output_type": "stream",
     "text": [
      "Enter a number:-  10\n"
     ]
    },
    {
     "name": "stdout",
     "output_type": "stream",
     "text": [
      "Product  3628800 Sum 55\n"
     ]
    }
   ],
   "source": [
    "#While loop\n",
    "\n",
    "num = int(input(\"Enter a number:- \"))\n",
    "pro = 1\n",
    "sum = 0\n",
    "v = 1\n",
    "while v <=num:\n",
    "    pro = pro * v\n",
    "    sum = sum+v\n",
    "    v=v+1\n",
    "print(\"Product \",pro,\"Sum\",sum)"
   ]
  },
  {
   "cell_type": "markdown",
   "id": "7e3385f9-1dcc-4265-bbba-5e88d6c577d5",
   "metadata": {},
   "source": [
    "Q3. Create a python program to compute the electricity bill for a household.\n",
    "The per-unit charges in rupees are as follows: For the first 100 units, the user will be charged Rs. 4.5 per \n",
    "unit, for the next 100 units, the user will be charged Rs. 6 per unit, and for the next 100 units, the user will \n",
    "be charged Rs. 10 per unit, After 300 units and above the user will be charged Rs. 20 per unit.\n",
    "\n",
    "You are required to take the units of electricity consumed in a month from the user as input.\n",
    "\n",
    "Your program must pass this test case: when the unit of electricity consumed by the user in a month is \n",
    "310, the total electricity bill should be 2250"
   ]
  },
  {
   "cell_type": "code",
   "execution_count": 20,
   "id": "e8dff50b-4abb-4332-b680-ae8c1c7bd310",
   "metadata": {},
   "outputs": [
    {
     "name": "stdout",
     "output_type": "stream",
     "text": [
      "The electricity bill for a household\n"
     ]
    },
    {
     "name": "stdin",
     "output_type": "stream",
     "text": [
      "Enter electricity consumed unites in this months:-  310\n"
     ]
    },
    {
     "name": "stdout",
     "output_type": "stream",
     "text": [
      "The total electricity bill 2250.0\n"
     ]
    }
   ],
   "source": [
    "print(\"The electricity bill for a household\")\n",
    "\n",
    "unites = int(input(\"Enter electricity consumed unites in this months:- \"))\n",
    "\n",
    "if unites > 300:\n",
    "    charged = (100*4.5)+(100*6)+(100*10)+(unites-300)*20\n",
    "    print(\"The total electricity bill\", charged)\n",
    "elif unites > 200 and unites < 300:\n",
    "    charged = (100*4.5)+(100*6)+(unites-200)*10\n",
    "    print(\"The total electricity bill\", charged)\n",
    "elif unites > 100 and unites < 200:\n",
    "    charged = (100*4.5)+(unites-100)*6\n",
    "    print(\"The total electricity bill\", charged)\n",
    "else:\n",
    "    charged = unites*4.5\n",
    "    print(\"The total electricity bill\", charged)"
   ]
  },
  {
   "cell_type": "markdown",
   "id": "43458803-02d3-4416-a3e7-cda49f630982",
   "metadata": {},
   "source": [
    "Q4. Create a list of numbers from 1 to 100. Use for loop and while loop to calculate the cube of each \n",
    "number and if the cube of that number is divisible by 4 or 5 then append that number in a list and print \n",
    "that list."
   ]
  },
  {
   "cell_type": "code",
   "execution_count": 46,
   "id": "bb340987-c598-4a3f-8e6d-b68fe13daf6c",
   "metadata": {},
   "outputs": [
    {
     "name": "stdout",
     "output_type": "stream",
     "text": [
      "[8, 64, 125, 216, 512, 1000, 1728, 2744, 3375, 4096, 5832, 8000, 10648, 13824, 15625, 17576, 21952, 27000, 32768, 39304, 42875, 46656, 54872, 64000, 74088, 85184, 91125, 97336, 110592, 125000, 140608, 157464, 166375, 175616, 195112, 216000, 238328, 262144, 274625, 287496, 314432, 343000, 373248, 405224, 421875, 438976, 474552, 512000, 551368, 592704, 614125, 636056, 681472, 729000, 778688, 830584, 857375, 884736, 941192, 1000000]\n"
     ]
    }
   ],
   "source": [
    "#For loop\n",
    "mylist = [x for x in range(1,101)]\n",
    "l1=[]\n",
    "for i in mylist:\n",
    "    l=i**3\n",
    "    if l%4==0 or l%5==0:\n",
    "        l1.append(l)\n",
    "print(l1)"
   ]
  },
  {
   "cell_type": "code",
   "execution_count": 48,
   "id": "b7210491-5168-43cd-8677-948420eff88f",
   "metadata": {},
   "outputs": [
    {
     "name": "stdout",
     "output_type": "stream",
     "text": [
      "[8, 64, 125, 216, 512, 1000, 1728, 2744, 3375, 4096, 5832, 8000, 10648, 13824, 15625, 17576, 21952, 27000, 32768, 39304, 42875, 46656, 54872, 64000, 74088, 85184, 91125, 97336, 110592, 125000, 140608, 157464, 166375, 175616, 195112, 216000, 238328, 262144, 274625, 287496, 314432, 343000, 373248, 405224, 421875, 438976, 474552, 512000, 551368, 592704, 614125, 636056, 681472, 729000, 778688, 830584, 857375, 884736, 941192, 1000000]\n"
     ]
    }
   ],
   "source": [
    "#while loop\n",
    "mylist = [x for x in range(1,101)]\n",
    "l1=[]\n",
    "i=1\n",
    "while i<=len(mylist):\n",
    "    l=i**3\n",
    "    if l%4==0 or l%5==0:\n",
    "        l1.append(l)\n",
    "    i=i+1\n",
    "print(l1)"
   ]
  },
  {
   "cell_type": "markdown",
   "id": "27a12793-7bc7-4bd2-af50-30f2b85469dc",
   "metadata": {},
   "source": [
    "Q.5 Write a program to filter count vowels in the below-given string.\n",
    "\n",
    "string = \"I want to become a data scientist\""
   ]
  },
  {
   "cell_type": "code",
   "execution_count": 1,
   "id": "9c7d8695-c94b-4e91-90d2-2703207484c2",
   "metadata": {},
   "outputs": [
    {
     "name": "stdout",
     "output_type": "stream",
     "text": [
      "['a', 'o', 'e', 'o', 'e', 'a', 'a', 'a', 'i', 'e', 'i']\n",
      "count of vowels 11\n"
     ]
    }
   ],
   "source": [
    "def vowels(x):\n",
    "    v=['a','e','i','o','u']\n",
    "    return x in v\n",
    "\n",
    "string=\"I want to become a data scientist\"\n",
    "\n",
    "mylist=list(filter(vowels,string))\n",
    "\n",
    "print(mylist)\n",
    "\n",
    "count_vowels= len(mylist)\n",
    "\n",
    "print(\"count of vowels\",count_vowels)"
   ]
  },
  {
   "cell_type": "code",
   "execution_count": null,
   "id": "48024f4c",
   "metadata": {},
   "outputs": [],
   "source": []
  }
 ],
 "metadata": {
  "kernelspec": {
   "display_name": "Python 3 (ipykernel)",
   "language": "python",
   "name": "python3"
  },
  "language_info": {
   "codemirror_mode": {
    "name": "ipython",
    "version": 3
   },
   "file_extension": ".py",
   "mimetype": "text/x-python",
   "name": "python",
   "nbconvert_exporter": "python",
   "pygments_lexer": "ipython3",
   "version": "3.9.13"
  }
 },
 "nbformat": 4,
 "nbformat_minor": 5
}
