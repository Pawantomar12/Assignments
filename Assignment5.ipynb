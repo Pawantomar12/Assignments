{
 "cells": [
  {
   "cell_type": "markdown",
   "id": "0a03508b",
   "metadata": {},
   "source": [
    "Q1. Explain Class and Object with respect to Object-Oriented Programming. Give a suitable example.\n",
    "\n",
    "Ans:-"
   ]
  },
  {
   "cell_type": "markdown",
   "id": "1eba4d0b",
   "metadata": {},
   "source": [
    "In object-oriented programming, a class is a blueprint for creating objects. It defines a set of attributes that characterize any object of the class. These attributes are data members (class variables and instance variables) and methods.\n",
    "\n",
    "An object is an instance of a class. It can be created from a class using the __init__() method. An object has its own set of attributes that are different from other objects of the same class.\n",
    "\n",
    "Here’s an example:"
   ]
  },
  {
   "cell_type": "code",
   "execution_count": 1,
   "id": "3f595976",
   "metadata": {},
   "outputs": [
    {
     "name": "stdout",
     "output_type": "stream",
     "text": [
      "Ford\n",
      "Camaro\n"
     ]
    }
   ],
   "source": [
    "class Car:\n",
    "    def __init__(self, make, model):\n",
    "        self.make = make\n",
    "        self.model = model\n",
    "\n",
    "    def get_make(self):\n",
    "        return self.make\n",
    "\n",
    "    def get_model(self):\n",
    "        return self.model\n",
    "\n",
    "car1 = Car(\"Ford\", \"Mustang\")\n",
    "car2 = Car(\"Chevrolet\", \"Camaro\")\n",
    "\n",
    "print(car1.get_make())  # Output: Ford\n",
    "print(car2.get_model()) # Output: Camaro"
   ]
  },
  {
   "cell_type": "markdown",
   "id": "70da0869",
   "metadata": {},
   "source": [
    "In this example, we define a class called Car with two data members (make and model) and two methods (get_make() and get_model()). We then create two objects (car1 and car2) from this class using the __init__() method. Finally, we call the methods on these objects to get their respective attributes."
   ]
  },
  {
   "cell_type": "markdown",
   "id": "3bb1d965",
   "metadata": {},
   "source": [
    "Q2. Name the four pillars of OOPs.\n",
    "\n",
    "Ans:-"
   ]
  },
  {
   "cell_type": "markdown",
   "id": "fdf31212",
   "metadata": {},
   "source": [
    "The four pillars of object-oriented programming are:\n",
    "\n",
    "Encapsulation: Encapsulation is the process of binding data members (variables) and member functions (methods) together in a single unit called a class.\n",
    "\n",
    "Abstraction: Abstraction refers to the act of representing essential features without including the background details or explanations.\n",
    "\n",
    "Inheritance: Inheritance is the process by which one class acquires the properties (methods and variables) of another class.\n",
    "\n",
    "Polymorphism: Polymorphism is the ability of an object to take on many forms. In Python, polymorphism is achieved through method overloading and method overriding."
   ]
  },
  {
   "cell_type": "markdown",
   "id": "58f6e0a6",
   "metadata": {},
   "source": [
    "Q3. Explain why the __init__() function is used. Give a suitable example.\n",
    "\n",
    "Ans:-In Python, the __init__() function is used to initialize the value of the object attribute of the class. The __init__() function also executes the statements that are initialized inside the function when the object is created1.\n",
    "\n",
    "For example, let’s say we have a class called Person with two attributes: name and age. We can use the __init__() function to initialize these attributes when we create an object of this class. Here’s how we can do it:"
   ]
  },
  {
   "cell_type": "code",
   "execution_count": 3,
   "id": "eee3be59",
   "metadata": {},
   "outputs": [
    {
     "name": "stdout",
     "output_type": "stream",
     "text": [
      "John\n",
      "36\n"
     ]
    }
   ],
   "source": [
    "class Person:\n",
    "    def __init__(self, name, age):\n",
    "        self.name = name\n",
    "        self.age = age\n",
    "\n",
    "p1 = Person(\"John\", 36)\n",
    "print(p1.name)\n",
    "print(p1.age)"
   ]
  },
  {
   "cell_type": "markdown",
   "id": "1349acd9",
   "metadata": {},
   "source": [
    "Q4. Why self is used in OOPs?\n",
    "\n",
    "Ans:-In object-oriented programming (OOP), self is used to represent the instance of a class. It is used as the first parameter in each method of a class1.\n",
    "\n",
    "When you create an object of a class, Python automatically passes the instance object as the first parameter to the class instance’s method when called. This is done to identify the instance that called it. You can use self to access other attributes or methods of the object from inside the method2."
   ]
  },
  {
   "cell_type": "code",
   "execution_count": 5,
   "id": "5d8b1483",
   "metadata": {},
   "outputs": [
    {
     "name": "stdout",
     "output_type": "stream",
     "text": [
      "Whiskers says meow!\n"
     ]
    }
   ],
   "source": [
    "#Here’s an example:\n",
    "class Cat:\n",
    "    def __init__(self, name):\n",
    "        self.name = name\n",
    "\n",
    "    def meow(self):\n",
    "        print(f\"{self.name} says meow!\")\n",
    "\n",
    "cat1 = Cat(\"Whiskers\")\n",
    "cat1.meow()"
   ]
  },
  {
   "cell_type": "markdown",
   "id": "8b902a7c",
   "metadata": {},
   "source": [
    "Q5. What is inheritance? Give an example for each type of inheritance.\n",
    "\n",
    "Ans:- Inheritance is a concept in object-oriented programming that allows us to define a class that inherits all the methods and properties from another class1. The class being inherited from is called the parent class or base class, while the class that inherits from another class is called the child class or derived class1.\n",
    "\n",
    "There are different types of inheritance in Python:\n",
    "\n",
    "Single inheritance: When a child class inherits from only one parent class.\n",
    "Multiple inheritance: When a child class inherits from multiple parent classes.\n",
    "Multilevel inheritance: When a child class inherits from a parent class, which in turn inherits from another parent class.\n",
    "\n",
    "Here’s an example of single inheritance:"
   ]
  },
  {
   "cell_type": "code",
   "execution_count": 6,
   "id": "db175c57",
   "metadata": {},
   "outputs": [
    {
     "name": "stdout",
     "output_type": "stream",
     "text": [
      "Buddy speaks.\n"
     ]
    }
   ],
   "source": [
    "class Animal:\n",
    "    def __init__(self, name):\n",
    "        self.name = name\n",
    "\n",
    "    def speak(self):\n",
    "        print(f\"{self.name} speaks.\")\n",
    "\n",
    "class Dog(Animal):\n",
    "    def __init__(self, name):\n",
    "        super().__init__(name)\n",
    "\n",
    "dog1 = Dog(\"Buddy\")\n",
    "dog1.speak()"
   ]
  },
  {
   "cell_type": "code",
   "execution_count": null,
   "id": "a0a78873",
   "metadata": {},
   "outputs": [],
   "source": []
  }
 ],
 "metadata": {
  "kernelspec": {
   "display_name": "Python 3 (ipykernel)",
   "language": "python",
   "name": "python3"
  },
  "language_info": {
   "codemirror_mode": {
    "name": "ipython",
    "version": 3
   },
   "file_extension": ".py",
   "mimetype": "text/x-python",
   "name": "python",
   "nbconvert_exporter": "python",
   "pygments_lexer": "ipython3",
   "version": "3.9.13"
  }
 },
 "nbformat": 4,
 "nbformat_minor": 5
}
