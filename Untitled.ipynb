{
 "cells": [
  {
   "cell_type": "markdown",
   "id": "4f4d3a49",
   "metadata": {},
   "source": [
    "# Q.1 Who developed Python Programming Language?\n",
    "\n",
    "Ans:-Python is a widely-used general-purpose, high-level programming language. It was initially designed by Guido van Rossum in 1991 and developed by Python Software Foundation. It was mainly developed for emphasis on code readability, and its syntax allows programmers to express concepts in fewer lines of code."
   ]
  },
  {
   "cell_type": "markdown",
   "id": "702b89a3",
   "metadata": {},
   "source": [
    "# Q.2 Which type of Programming does Python support?\n",
    "\n",
    "Ans:=Python is a versatile programming language that supports a wide range of programming paradigms. Some of the types of programming that Python supports include:\n",
    "\n",
    "Imperative programming: This is a type of programming that involves giving the computer a set of instructions to follow in order to solve a problem. Python supports imperative programming through its use of control structures, such as loops and conditional statements.\n",
    "\n",
    "Object-oriented programming: This is a type of programming that involves organizing code into \"objects\" that represent real-world entities and the actions that can be performed on them. Python has built-in support for object-oriented programming, including features such as classes, inheritance, and polymorphism.\n",
    "\n",
    "Functional programming: This is a type of programming that involves defining functions that take inputs and produce outputs, without the use of mutable state. Python has limited support for functional programming, but it does include features such as lambda functions and first-class functions.\n",
    "\n",
    "Procedural programming: This is a type of programming that involves dividing a program into a series of steps or procedures that are executed in a specific order. Python has support for procedural programming through its use of functions and control structures.\n",
    "\n",
    "Overall, Python is a highly flexible language that allows developers to choose the programming paradigm that best fits their needs."
   ]
  },
  {
   "cell_type": "markdown",
   "id": "224e4148",
   "metadata": {},
   "source": [
    "# Q.3 is Python case sensitive when dealing wiht identifiers?\n",
    "\n",
    "Ans:-Yes, Python is case sensitive when dealing with identifiers. This means that the names \"name\", \"Nam\", and “NAME\" are treated as three different identifiers by the Python interpreter. It is important to be consistent and follow a naming convention when defining your identifiers to make your code organized, readable, and maintainable.\n",
    "\n",
    "In Python, variable names, function names, and keywords are case-sensitive. For example, the variable name \"myCar\" is different from \"mycar\" or \"myCaR\".This variable name is Identifiers.\n",
    "\n",
    "Function names are also case sensitive, for example, \"print()\" and \"Print()\" are two different functions in python.\n",
    "Python keywords like \"if\", \"else\" and \"while\" are case sensitive and should always be written in lowercase letters.\n",
    "However, strings are case-insensitive in python by default but we can make it case-sensitive by using various string operations like lower() and upper() functions.\n",
    "So we can say that yes python is case sensitive language while dealing with identifier.\n"
   ]
  },
  {
   "cell_type": "markdown",
   "id": "834ac569",
   "metadata": {},
   "source": [
    "# Q.4 What is the correct Extension of the Python file?\n",
    "\n",
    "Ans:- When creating programs and code in Python, the correct file extension for your code is .py.\n",
    "\n",
    "There are a few other file extensions associated with Python files.\n",
    "\n",
    "1. File Extension for Python Source Code\n",
    "\n",
    "After writing your program, script, module, etc., saving your code with .py will allow the operating system to recognize this is a Python file.\n",
    "\n",
    "2. File Extension for Compiled Python Bytecode\n",
    "\n",
    "The second type of file associated with Python is compiled bytecode and the extension for compiled bytecode is .pyc.\n",
    "\n",
    "Let’s say you create a module with Python source code. If you want to import that module, Python will build a .pyc file which contains the bytecode to make importing this module easier.\n",
    "\n",
    "3. File Extension for Compiled Python Bytecode While Optimization is On\n",
    "If you have optimizations turned on, i.e. with a command like “python -O test.py”, you will get a .pyo file when you run the code.\n",
    "\n",
    "4. File Extension for Windows DLL file of Python Code\n",
    "\n",
    "The final file extension which you should know about is the .pyd file extension. .pyd files are Windows DLL files.\n",
    "\n",
    "DLL stands for Dynamic Link Library. These library files contain code to carry out a specific function for an application in the Windows operating systems."
   ]
  },
  {
   "cell_type": "markdown",
   "id": "70b8e3dd",
   "metadata": {},
   "source": [
    "# Q.5 is Python code complied or interpreted?\n",
    "\n",
    "Ans:-In various books of python programming, it is mentioned that python language is interpreted. But that is half correct the python program is first compiled and then interpreted. The compilation part is hidden from the programmer thus, many programmers believe that it is an interpreted language. The compilation part is done first when we execute our code and this will generate byte code and internally this byte code gets converted by the python virtual machine(p.v.m) according to the underlying platform(machine+operating system).\n",
    "Now the question is – if there is any proof that python first compiles the program internally and then run the code via interpreter?\n",
    "The answer is yes! and note this compiled part is get deleted by the python(as soon as you execute your code) just it does not want programmers to get into complexity."
   ]
  },
  {
   "cell_type": "markdown",
   "id": "7b0f67ad",
   "metadata": {},
   "source": [
    "# Q.6 Name a few blocks of code used to define in Python language?\n",
    "\n",
    "Ans:=Indentation is used to define a block of code in python. Braces {} are used to define a block of code in most programming languages, like C, C++, and Java. But this indentation makes python unique among all programming languages.\n",
    "\n",
    "This indentation highlights the block of code. In Python, indentation is done with whitespace. All statements with the same right-hand distance belong to the same code block. If a block needs to be more nested, it is indented to the right.\n",
    "\n",
    "Indentation is only used in most other programming languages to help make the code look nice. However, it is required in Python to indicate which block of code a statement belongs to."
   ]
  },
  {
   "cell_type": "markdown",
   "id": "67dd5d50",
   "metadata": {},
   "source": [
    "# Q.7 State a character used to give single-line= Comments in Python?\n",
    "\n",
    "Ans:-You can add a single line of comment to your python file or Python code. To add any comment to your Python file, you have to use symbol hash(#). A hash(#) symbol comment out only a single line of text on Python.\n",
    "\n",
    "Add single line description text to your Python file using hash(#) symbol. Describe useful codes or any working of codes with a single line of comment."
   ]
  },
  {
   "cell_type": "markdown",
   "id": "fcec1418",
   "metadata": {},
   "source": [
    "# Q.8 Mention functions which can help us to find the version of python that we are currently working on?\n",
    "\n",
    "Ans:=The correct answer is (a) sys.version Explanation: The function sys.version can help us to find the version of python that we are currently working on."
   ]
  },
  {
   "cell_type": "markdown",
   "id": "98989707",
   "metadata": {},
   "source": [
    "# Q.9 Python supports the creation of anonymous function at runtiome, using a construct called\n",
    "\n",
    "Ans:-Python supports the creation of anonymous functions at runtime, using a construct called (lambda)"
   ]
  },
  {
   "cell_type": "markdown",
   "id": "aad4cdfe",
   "metadata": {},
   "source": [
    "# Q.10 What does pip stand for python?\n",
    "\n",
    "Ans:-PIP is a package manager for Python packages. PIP stands for Precise Infectious Packages. PIP is used to install, update, and remove Python packages.\n",
    "\n",
    "PIP stands for “Python Package Index”. It is a repository of software for the Python programming language.\n",
    "\n",
    "Python PIP is a package manager for Python packages. PIP stands for “Preferred Installer Program”. PIP is used to install and manage software packages written in Python. PIP is similar to other package managers like APT and YUM."
   ]
  },
  {
   "cell_type": "markdown",
   "id": "a3fdd6e4",
   "metadata": {},
   "source": [
    "# Q.11 Mention a few built-in function in python?\n",
    "\n",
    "Ans:-Python has a set of built-in functions.\n",
    "\n",
    "Function\tDescription\n",
    "abs()\tReturns the absolute value of a number\n",
    "all()\tReturns True if all items in an iterable object are true\n",
    "complex()\tReturns a complex number\n",
    "dict()\tReturns a dictionary (Array)\n",
    "len()\tReturns the length of an object\n",
    "list()\tReturns a list\n",
    "max()\tReturns the largest item in an iterable\n",
    "max()\tReturns the largest item in an iterable\n",
    "round()\tRounds a numbers\n",
    "set()\tReturns a new set object\n",
    "tuple()\tReturns a tuple\n",
    "type()\tReturns the type of an object"
   ]
  },
  {
   "cell_type": "markdown",
   "id": "a2031333",
   "metadata": {},
   "source": [
    "# Q.12 What is the maximum possible lenght of an indentifier in Python?\n",
    "Ans:-In Python, the highest possible length of an identifier is 79 characters. Python is a high level programming language. It’s also a complex form and a collector of waste.\n",
    "\n",
    "Python, particularly when combined with identifiers, is case-sensitive.\n",
    "When writing or using identifiers in Python, it has a maximum of 79 characters.\n",
    "Unlikely, Python gives the identifiers unlimited length.\n",
    "However, the layout of PEP-8 prevents the user from breaking the rules and includes a 79-character limit."
   ]
  },
  {
   "cell_type": "markdown",
   "id": "39b7d3f8",
   "metadata": {},
   "source": [
    "# Q.13 What are the benefits of using Python?\n",
    "\n",
    "Ans:-Python is a high-end programming language because of dynamic features that functions based on code readability. The architecture and the syntax in the programming language enable coders to complete a few steps compared to alternatives.\n",
    "\n",
    "Advantages of Python Programming Language\n",
    "\n",
    "1. Easy to read, learn and code\n",
    "Python is a high-level language and its syntax is very simple. It does not need any semicolons or braces and looks like English. Thus, it is beginner-friendly.\n",
    "\n",
    "2. Dynamic Typing\n",
    "In Python, there is no need for the declaration of variables. The data type of the variable gets assigned automatically during runtime, facilitating dynamic coding.\n",
    "\n",
    "3. Free, Open Source\n",
    "It is free and also has an open-source licence. This means the source code is available to the public for free and one can do modifications to the original code. This modified code can be distributed with no restrictions.\n",
    "\n",
    "3. Free, Open Source\n",
    "It is free and also has an open-source licence. This means the source code is available to the public for free and one can do modifications to the original code. This modified code can be distributed with no restrictions.\n",
    "\n",
    "5. Extensive Third-Party Libraries\n",
    "Python comes with a wide range of libraries like NumPy, Pandas, Tkinter, Django, etc.\n",
    "\n",
    "6. Wide Range of Applications\n",
    "Python has many applications like web development, making desktop GUIs, app development, artificial intelligence, data science, etc. It has become a preferred language by the professionals in many areas like engineering, mathematics and science.\n",
    "\n",
    "7. Extensible and Integrable to Other Programming Languages\n",
    "In addition to having libraries like CPython and Jython, it can extend to other languages like C, C++. This feature helps while building projects.\n",
    "\n",
    "8. Interpreted Language\n",
    "Python is an interpreted language. The code gets executed line by line till an error is encountered if any.\n",
    "\n",
    "9. Functional, Object-Oriented, and Procedural\n",
    "It is a procedural, functional, and object-oriented language. Procedural means the code gets executed in the top to bottom fashion.\n",
    "\n",
    "10. Improved Productivity\n",
    "The fact that the syntax of python is very easy and short, allows more productivity. Developers can focus more on the algorithm, rather than on coding."
   ]
  },
  {
   "cell_type": "markdown",
   "id": "e2d15a47",
   "metadata": {},
   "source": [
    "# Q.14 How is memory managed in Python?\n",
    "\n",
    "Ans:-According to the Python memory management documentation, Python has a private heap that stores our program’s objects and data structures. Python memory manager takes care of the bulk of the memory management work and allows us to concentrate on our code.\n",
    "\n",
    "There are two types of memory allocation in Python, static and dynamic.\n",
    "\n",
    "1. Static memory\n",
    "The stack data structure provides static memory allocation, meaning the variables are in the stack memory. Statically assigned variables, as the name implies, are permanent; this means that they must be allocated in advance and persist for the duration of the program. Another point to remember is that we cannot reuse the memory allocated in the stack memory. Therefore, memory reusability is not possible.\n",
    "\n",
    "2. Dynamic memory\n",
    "The dynamic memory allocation uses heap data structures in its implementation, implying that variables are in the heap memory. As the name suggests, dynamically allocated variables are not permanent and can be changed while a program is running. Additionally, allotted memory can be relinquished and reused. However, it takes longer to complete because dynamic memory allocation occurs during program execution. Furthermore, after utilizing the allocated memory, we must release it. Otherwise, problems such as memory leaks might arise."
   ]
  },
  {
   "cell_type": "markdown",
   "id": "0fb73883",
   "metadata": {},
   "source": [
    "# Q.15 How to Install Pyton on windows and set path variables?\n",
    "\n",
    "Ans:-Install python from this link https://www.python.org/downloads/\n",
    "After this, install it on your PC. Look for the location where PYTHON has been installed on your PC using tge following command on your command prompt: cmd python.\n",
    "Then go to advanced system settings and add new variable and name it as PYTHON_NAME and paste the copied path.\n",
    "Then look for the path variable, select it's value and select edit\n",
    "Add a semicolon towards the end of the value if it's not present and then type %PYTHON_HOME%"
   ]
  },
  {
   "cell_type": "markdown",
   "id": "a34fc1b5",
   "metadata": {},
   "source": [
    "# Q.16 Is Indentation required in Python?\n",
    "\n",
    "Ans:-Indentation is a very important concept of Python because without proper indenting the Python code, you will end up seeing IndentationError and the code will not get compiled."
   ]
  }
 ],
 "metadata": {
  "kernelspec": {
   "display_name": "Python 3 (ipykernel)",
   "language": "python",
   "name": "python3"
  },
  "language_info": {
   "codemirror_mode": {
    "name": "ipython",
    "version": 3
   },
   "file_extension": ".py",
   "mimetype": "text/x-python",
   "name": "python",
   "nbconvert_exporter": "python",
   "pygments_lexer": "ipython3",
   "version": "3.9.13"
  }
 },
 "nbformat": 4,
 "nbformat_minor": 5
}
