{
 "cells": [
  {
   "cell_type": "markdown",
   "id": "2b7258fa",
   "metadata": {},
   "source": [
    "Q1.Write a program to accept percentage form the user and display the grade according to the following criteria: \n",
    "\n",
    "marks > 90 grade A, \n",
    "marks >80 and <=90 grade B, \n",
    "markd >=60 and <=80 grade c, \n",
    "mraks <60 grade D"
   ]
  },
  {
   "cell_type": "code",
   "execution_count": 4,
   "id": "48f5f286",
   "metadata": {},
   "outputs": [
    {
     "name": "stdout",
     "output_type": "stream",
     "text": [
      "Enter percentage: 80\n",
      "Grade C\n"
     ]
    }
   ],
   "source": [
    "percentage = float(input(\"Enter percentage: \"))\n",
    "\n",
    "if percentage > 90:\n",
    "    print(\"Grade A\")\n",
    "elif percentage > 80 and percentage <= 90:\n",
    "    print(\"Grade B\")\n",
    "elif percentage >= 60 and percentage <= 80:\n",
    "    print(\"Grade C\")\n",
    "else:\n",
    "    print(\"Grade D\")"
   ]
  },
  {
   "cell_type": "markdown",
   "id": "969768cd",
   "metadata": {},
   "source": [
    "Q3. Write a program to accept the cost price of a bike and display the road tax to be paid according to the following criteria:\n",
    "\n",
    "Tax 15% Cost Price > 100000 \n",
    "Tax 10% Corst Price > 50000 and <=100000 \n",
    "Tax 5% Cost Price <=50000"
   ]
  },
  {
   "cell_type": "code",
   "execution_count": 5,
   "id": "f79cf7d3",
   "metadata": {},
   "outputs": [
    {
     "name": "stdout",
     "output_type": "stream",
     "text": [
      "Enter cost price: 60000\n",
      "Road tax to be paid: 6000.0\n"
     ]
    }
   ],
   "source": [
    "cost_price = float(input(\"Enter cost price: \"))\n",
    "\n",
    "if cost_price > 100000:\n",
    "    tax = 0.15 * cost_price\n",
    "elif cost_price > 50000 and cost_price <= 100000:\n",
    "    tax = 0.10 * cost_price\n",
    "else:\n",
    "    tax = 0.05 * cost_price\n",
    "\n",
    "print(f\"Road tax to be paid: {tax}\")"
   ]
  },
  {
   "cell_type": "markdown",
   "id": "b1cb3e8e",
   "metadata": {},
   "source": [
    "Q.4 Accept any city from the user and display monuments of that city.\n",
    "\n",
    "City Delhi Monument Red Fort \n",
    "City Agra Monument Taj Mahal \n",
    "City Jaipur Monument Jal Mahal\n"
   ]
  },
  {
   "cell_type": "code",
   "execution_count": 7,
   "id": "1b4d8537",
   "metadata": {},
   "outputs": [
    {
     "name": "stdout",
     "output_type": "stream",
     "text": [
      "Enter city name: delhi\n",
      "Delhi Monument Red Fort\n"
     ]
    }
   ],
   "source": [
    "City = input(\"Enter city name: \").upper()\n",
    "\n",
    "if City=='DELHI':\n",
    "    print(\"Delhi Monument Red Fort\")\n",
    "    \n",
    "elif City=='AGRA':\n",
    "    print('Delhi Monument Red Fort')\n",
    "    \n",
    "elif City=='JAIPUR':\n",
    "    print('Jaipur Monument Jal Mahal')"
   ]
  },
  {
   "cell_type": "markdown",
   "id": "636c3a5b",
   "metadata": {},
   "source": [
    "Q4. Check how many times a given number can be divided by 3 before it is less than or equal to 10. "
   ]
  },
  {
   "cell_type": "code",
   "execution_count": 11,
   "id": "0405ecd8",
   "metadata": {},
   "outputs": [
    {
     "name": "stdout",
     "output_type": "stream",
     "text": [
      "Enter a intiger value: 50\n",
      "2\n"
     ]
    }
   ],
   "source": [
    "num = int(input('Enter a intiger value: '))\n",
    "count = 0\n",
    "while num > 10:\n",
    "    num /= 3\n",
    "    count += 1\n",
    "print (count)"
   ]
  },
  {
   "cell_type": "markdown",
   "id": "faa78eb2",
   "metadata": {},
   "source": [
    "Q.5 Why and when to use while loop in python give a detailed descrption whit example."
   ]
  },
  {
   "cell_type": "markdown",
   "id": "1aa04fac",
   "metadata": {},
   "source": [
    "A while loop is used to execute a block of statements repeatedly until a given condition is satisfied. And when the condition becomes false, the line immediately after the loop in the program is executed"
   ]
  },
  {
   "cell_type": "markdown",
   "id": "94d33f39",
   "metadata": {},
   "source": [
    "The syntax of a while loop in Python is:\n",
    "\n",
    "while condition:\n",
    "    # body of while loop"
   ]
  },
  {
   "cell_type": "code",
   "execution_count": 13,
   "id": "2d9d444f",
   "metadata": {},
   "outputs": [
    {
     "name": "stdout",
     "output_type": "stream",
     "text": [
      "0\n",
      "1\n",
      "2\n",
      "3\n",
      "4\n",
      "5\n"
     ]
    }
   ],
   "source": [
    "i = 0\n",
    "while i < 6:\n",
    "    print(i)\n",
    "    i += 1"
   ]
  },
  {
   "cell_type": "markdown",
   "id": "3a61fe5a",
   "metadata": {},
   "source": [
    "Q.6 use nested while loop to print 3 different patterns."
   ]
  },
  {
   "cell_type": "code",
   "execution_count": 14,
   "id": "abff1150",
   "metadata": {},
   "outputs": [
    {
     "name": "stdout",
     "output_type": "stream",
     "text": [
      "*\n",
      "**\n",
      "***\n",
      "****\n",
      "*****\n",
      "*****\n",
      "****\n",
      "***\n",
      "**\n",
      "*\n",
      "     *\n",
      "    **\n",
      "   ***\n",
      "  ****\n",
      " *****\n"
     ]
    }
   ],
   "source": [
    "# Pattern 1\n",
    "i = 1\n",
    "while i <= 5:\n",
    "    j = 1\n",
    "    while j <= i:\n",
    "        print(\"*\", end=\"\")\n",
    "        j += 1\n",
    "    print()\n",
    "    i += 1\n",
    "\n",
    "# Pattern 2\n",
    "i = 5\n",
    "while i >= 1:\n",
    "    j = 1\n",
    "    while j <= i:\n",
    "        print(\"*\", end=\"\")\n",
    "        j += 1\n",
    "    print()\n",
    "    i -= 1\n",
    "\n",
    "# Pattern 3\n",
    "i = 1\n",
    "while i <= 5:\n",
    "    j = 5\n",
    "    while j >= i:\n",
    "        print(\" \", end=\"\")\n",
    "        j -= 1\n",
    "    k = 1\n",
    "    while k <= i:\n",
    "        print(\"*\", end=\"\")\n",
    "        k += 1\n",
    "    print()\n",
    "    i += 1"
   ]
  },
  {
   "cell_type": "markdown",
   "id": "a4c6e682",
   "metadata": {},
   "source": [
    "Q.7 Reverse a while loop to display numbers from 10 to 1."
   ]
  },
  {
   "cell_type": "code",
   "execution_count": 16,
   "id": "bc596e6a",
   "metadata": {},
   "outputs": [
    {
     "name": "stdout",
     "output_type": "stream",
     "text": [
      "10\n",
      "9\n",
      "8\n",
      "7\n",
      "6\n",
      "5\n",
      "4\n",
      "3\n",
      "2\n",
      "1\n"
     ]
    }
   ],
   "source": [
    "i = 10\n",
    "while i >= 1:\n",
    "    print(i)\n",
    "    i -= 1"
   ]
  },
  {
   "cell_type": "code",
   "execution_count": null,
   "id": "ce5de0b1",
   "metadata": {},
   "outputs": [],
   "source": []
  }
 ],
 "metadata": {
  "kernelspec": {
   "display_name": "Python 3 (ipykernel)",
   "language": "python",
   "name": "python3"
  },
  "language_info": {
   "codemirror_mode": {
    "name": "ipython",
    "version": 3
   },
   "file_extension": ".py",
   "mimetype": "text/x-python",
   "name": "python",
   "nbconvert_exporter": "python",
   "pygments_lexer": "ipython3",
   "version": "3.9.13"
  }
 },
 "nbformat": 4,
 "nbformat_minor": 5
}
